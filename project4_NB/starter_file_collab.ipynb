{
  "nbformat": 4,
  "nbformat_minor": 0,
  "metadata": {
    "colab": {
      "provenance": []
    },
    "kernelspec": {
      "name": "python3",
      "display_name": "Python 3"
    },
    "language_info": {
      "name": "python"
    }
  },
  "cells": [
    {
      "cell_type": "code",
      "execution_count": 1,
      "metadata": {
        "colab": {
          "base_uri": "https://localhost:8080/"
        },
        "id": "Q2kuj7r0NYgy",
        "outputId": "25445936-2364-45f8-8729-42878b533908"
      },
      "outputs": [
        {
          "output_type": "stream",
          "name": "stdout",
          "text": [
            "\r0% [Working]\r            \rGet:1 http://security.ubuntu.com/ubuntu jammy-security InRelease [129 kB]\n",
            "Get:2 https://cloud.r-project.org/bin/linux/ubuntu jammy-cran40/ InRelease [3,632 B]\n",
            "Get:3 https://developer.download.nvidia.com/compute/cuda/repos/ubuntu2204/x86_64  InRelease [1,581 B]\n",
            "Get:4 https://r2u.stat.illinois.edu/ubuntu jammy InRelease [6,555 B]\n",
            "Hit:5 http://archive.ubuntu.com/ubuntu jammy InRelease\n",
            "Get:6 http://archive.ubuntu.com/ubuntu jammy-updates InRelease [128 kB]\n",
            "Get:7 http://security.ubuntu.com/ubuntu jammy-security/main amd64 Packages [2,692 kB]\n",
            "Get:8 http://archive.ubuntu.com/ubuntu jammy-backports InRelease [127 kB]\n",
            "Get:9 http://security.ubuntu.com/ubuntu jammy-security/universe amd64 Packages [1,236 kB]\n",
            "Get:10 https://ppa.launchpadcontent.net/deadsnakes/ppa/ubuntu jammy InRelease [18.1 kB]\n",
            "Get:11 https://cloud.r-project.org/bin/linux/ubuntu jammy-cran40/ Packages [69.9 kB]\n",
            "Get:12 https://ppa.launchpadcontent.net/graphics-drivers/ppa/ubuntu jammy InRelease [24.3 kB]\n",
            "Hit:13 https://ppa.launchpadcontent.net/ubuntugis/ppa/ubuntu jammy InRelease\n",
            "Get:14 https://developer.download.nvidia.com/compute/cuda/repos/ubuntu2204/x86_64  Packages [1,378 kB]\n",
            "Get:15 https://r2u.stat.illinois.edu/ubuntu jammy/main all Packages [8,753 kB]\n",
            "Get:16 https://r2u.stat.illinois.edu/ubuntu jammy/main amd64 Packages [2,674 kB]\n",
            "Get:17 http://archive.ubuntu.com/ubuntu jammy-updates/universe amd64 Packages [1,535 kB]\n",
            "Get:18 http://archive.ubuntu.com/ubuntu jammy-updates/main amd64 Packages [3,000 kB]\n",
            "Get:19 https://ppa.launchpadcontent.net/deadsnakes/ppa/ubuntu jammy/main amd64 Packages [33.6 kB]\n",
            "Get:20 https://ppa.launchpadcontent.net/graphics-drivers/ppa/ubuntu jammy/main amd64 Packages [46.8 kB]\n",
            "Fetched 21.9 MB in 7s (3,184 kB/s)\n",
            "Reading package lists... Done\n",
            "W: Skipping acquire of configured file 'main/source/Sources' as repository 'https://r2u.stat.illinois.edu/ubuntu jammy InRelease' does not seem to provide it (sources.list entry misspelt?)\n"
          ]
        }
      ],
      "source": [
        "import os\n",
        "# Find the latest version of spark 3.x  from https://downloads.apache.org/spark/ and enter as the spark version\n",
        "# For example:\n",
        "# spark_version = 'spark-3.5.5'\n",
        "spark_version = 'spark-3.5.5'\n",
        "os.environ['SPARK_VERSION']=spark_version\n",
        "\n",
        "# Install Spark and Java\n",
        "!apt-get update\n",
        "!apt-get install openjdk-11-jdk-headless -qq > /dev/null\n",
        "!wget -q https://downloads.apache.org/spark/$SPARK_VERSION/$SPARK_VERSION-bin-hadoop3.tgz\n",
        "!tar xf $SPARK_VERSION-bin-hadoop3.tgz\n",
        "!pip install -q findspark\n",
        "\n",
        "# Set Environment Variables\n",
        "os.environ[\"JAVA_HOME\"] = \"/usr/lib/jvm/java-11-openjdk-amd64\"\n",
        "os.environ[\"SPARK_HOME\"] = f\"/content/{spark_version}-bin-hadoop3\"\n",
        "\n",
        "# Start a SparkSession\n",
        "import findspark\n",
        "findspark.init()"
      ]
    },
    {
      "cell_type": "code",
      "source": [
        "from pyspark.sql import SparkSession\n",
        "from pyspark.sql.functions import col, explode\n",
        "from pyspark.ml.feature import StringIndexer, OneHotEncoder\n",
        "from pyspark.ml import Pipeline\n",
        "from pyspark.ml.recommendation import ALS\n",
        "from pyspark.ml.evaluation import RegressionEvaluator\n",
        "from pyspark.ml.tuning import ParamGridBuilder, CrossValidator\n",
        "import json"
      ],
      "metadata": {
        "id": "4VT-uewYNbPA"
      },
      "execution_count": 6,
      "outputs": []
    },
    {
      "cell_type": "code",
      "source": [
        "# Initialize Spark session\n",
        "spark = SparkSession.builder.appName(\"MoviesData\").getOrCreate()\n",
        "\n",
        "# Load the JSON file into a PySpark DataFrame\n",
        "df = spark.read.json(\"movie_results.json\")  # Replace with your JSON file path\n",
        "\n",
        "# Show the structure of the JSON to understand the data\n",
        "df.printSchema()"
      ],
      "metadata": {
        "colab": {
          "base_uri": "https://localhost:8080/"
        },
        "id": "VqlOPnYgNdu_",
        "outputId": "1dd6c3fc-7806-474e-d00e-02a2005c575a"
      },
      "execution_count": 4,
      "outputs": [
        {
          "output_type": "stream",
          "name": "stdout",
          "text": [
            "root\n",
            " |-- adult: boolean (nullable = true)\n",
            " |-- backdrop_path: string (nullable = true)\n",
            " |-- belongs_to_collection: struct (nullable = true)\n",
            " |    |-- backdrop_path: string (nullable = true)\n",
            " |    |-- id: long (nullable = true)\n",
            " |    |-- name: string (nullable = true)\n",
            " |    |-- poster_path: string (nullable = true)\n",
            " |-- budget: long (nullable = true)\n",
            " |-- error: long (nullable = true)\n",
            " |-- genres: array (nullable = true)\n",
            " |    |-- element: struct (containsNull = true)\n",
            " |    |    |-- id: long (nullable = true)\n",
            " |    |    |-- name: string (nullable = true)\n",
            " |-- homepage: string (nullable = true)\n",
            " |-- id: long (nullable = true)\n",
            " |-- imdb_id: string (nullable = true)\n",
            " |-- origin_country: array (nullable = true)\n",
            " |    |-- element: string (containsNull = true)\n",
            " |-- original_language: string (nullable = true)\n",
            " |-- original_title: string (nullable = true)\n",
            " |-- overview: string (nullable = true)\n",
            " |-- popularity: double (nullable = true)\n",
            " |-- poster_path: string (nullable = true)\n",
            " |-- production_companies: array (nullable = true)\n",
            " |    |-- element: struct (containsNull = true)\n",
            " |    |    |-- id: long (nullable = true)\n",
            " |    |    |-- logo_path: string (nullable = true)\n",
            " |    |    |-- name: string (nullable = true)\n",
            " |    |    |-- origin_country: string (nullable = true)\n",
            " |-- production_countries: array (nullable = true)\n",
            " |    |-- element: struct (containsNull = true)\n",
            " |    |    |-- iso_3166_1: string (nullable = true)\n",
            " |    |    |-- name: string (nullable = true)\n",
            " |-- release_date: string (nullable = true)\n",
            " |-- revenue: long (nullable = true)\n",
            " |-- runtime: long (nullable = true)\n",
            " |-- spoken_languages: array (nullable = true)\n",
            " |    |-- element: struct (containsNull = true)\n",
            " |    |    |-- english_name: string (nullable = true)\n",
            " |    |    |-- iso_639_1: string (nullable = true)\n",
            " |    |    |-- name: string (nullable = true)\n",
            " |-- status: string (nullable = true)\n",
            " |-- tagline: string (nullable = true)\n",
            " |-- title: string (nullable = true)\n",
            " |-- video: boolean (nullable = true)\n",
            " |-- vote_average: double (nullable = true)\n",
            " |-- vote_count: long (nullable = true)\n",
            "\n"
          ]
        }
      ]
    },
    {
      "cell_type": "code",
      "source": [
        "# Extract the genre names (explode the array of genres to a new row per genre)\n",
        "df_genres = df.select(\n",
        "    col(\"id\").alias(\"movieId\"),\n",
        "    explode(col(\"genres\")).alias(\"genre\")\n",
        ").select(\n",
        "    \"movieId\",\n",
        "    col(\"genre.name\").alias(\"genre_name\")\n",
        ")\n",
        "# Index the genre names (convert them to numerical values)\n",
        "indexer = StringIndexer(inputCol=\"genre_name\", outputCol=\"genre_index\")\n",
        "\n",
        "# Encode the genre indices using OneHotEncoder\n",
        "encoder = OneHotEncoder(inputCol=\"genre_index\", outputCol=\"genre_vec\")\n",
        "\n",
        "# Combine indexing and encoding in a pipeline\n",
        "pipeline = Pipeline(stages=[indexer, encoder])\n",
        "genre_model = pipeline.fit(df_genres)\n",
        "df_genres_encoded = genre_model.transform(df_genres)\n",
        "\n",
        "# Now join the original movie DataFrame with the encoded genres\n",
        "df_selected = df.select(\n",
        "    col(\"id\").alias(\"movieId\"),\n",
        "    col(\"title\").alias(\"name\"),\n",
        "    col(\"popularity\")\n",
        ")\n",
        "\n",
        "df_with_genre = df_selected.join(df_genres_encoded, on=\"movieId\", how=\"left\")\n"
      ],
      "metadata": {
        "id": "Ae-aOpgGNnqy"
      },
      "execution_count": 7,
      "outputs": []
    },
    {
      "cell_type": "code",
      "source": [
        "# Now join with ratings DataFrame (assuming 'ratings.csv' exists)\n",
        "rating_df = spark.read.csv('ratings.csv', header=True, inferSchema=True)\n",
        "links_df = spark.read.csv('links.csv', header=True, inferSchema=True)\n",
        "\n",
        "# Join df_with_genre with links_df to add tmdbId and then join with rating_df\n",
        "df_with_tmdb = df_with_genre.join(links_df, 'movieId', 'inner')\n",
        "final_df = df_with_tmdb.join(rating_df, 'movieId', 'inner')\n",
        "\n",
        "# Select the minimal required columns\n",
        "final_df_selected = final_df.select(\n",
        "    col(\"userId\"),\n",
        "    col(\"tmdbId\"),\n",
        "    col(\"name\"),\n",
        "    col(\"popularity\"),\n",
        "    col(\"rating\"),\n",
        "    col(\"genre_vec\")  # Include the genre vector\n",
        ")\n",
        "\n",
        "# Show the final DataFrame to verify\n",
        "final_df_selected.show(truncate=False)"
      ],
      "metadata": {
        "colab": {
          "base_uri": "https://localhost:8080/"
        },
        "id": "ujkd3Y00Nnu5",
        "outputId": "8ed0d7f2-c569-4d01-cb32-254efb1de9bd"
      },
      "execution_count": 8,
      "outputs": [
        {
          "output_type": "stream",
          "name": "stdout",
          "text": [
            "+------+------+------------------------------------+----------+------+---------------+\n",
            "|userId|tmdbId|name                                |popularity|rating|genre_vec      |\n",
            "+------+------+------------------------------------+----------+------+---------------+\n",
            "|104   |61337 |Ray                                 |3.581     |2.0   |(18,[0],[1.0]) |\n",
            "|104   |61337 |Ray                                 |3.581     |2.0   |(18,[16],[1.0])|\n",
            "|156   |61337 |Ray                                 |3.581     |3.0   |(18,[0],[1.0]) |\n",
            "|156   |61337 |Ray                                 |3.581     |3.0   |(18,[16],[1.0])|\n",
            "|156   |24086 |Harley Davidson and the Marlboro Man|3.623     |3.0   |(18,[1],[1.0]) |\n",
            "|156   |24086 |Harley Davidson and the Marlboro Man|3.623     |3.0   |(18,[3],[1.0]) |\n",
            "|196   |24086 |Harley Davidson and the Marlboro Man|3.623     |4.0   |(18,[1],[1.0]) |\n",
            "|196   |24086 |Harley Davidson and the Marlboro Man|3.623     |4.0   |(18,[3],[1.0]) |\n",
            "|267   |24086 |Harley Davidson and the Marlboro Man|3.623     |5.0   |(18,[1],[1.0]) |\n",
            "|267   |24086 |Harley Davidson and the Marlboro Man|3.623     |5.0   |(18,[3],[1.0]) |\n",
            "|417   |24086 |Harley Davidson and the Marlboro Man|3.623     |4.0   |(18,[1],[1.0]) |\n",
            "|417   |24086 |Harley Davidson and the Marlboro Man|3.623     |4.0   |(18,[3],[1.0]) |\n",
            "|473   |24086 |Harley Davidson and the Marlboro Man|3.623     |3.0   |(18,[1],[1.0]) |\n",
            "|473   |24086 |Harley Davidson and the Marlboro Man|3.623     |3.0   |(18,[3],[1.0]) |\n",
            "|536   |24086 |Harley Davidson and the Marlboro Man|3.623     |2.0   |(18,[1],[1.0]) |\n",
            "|536   |24086 |Harley Davidson and the Marlboro Man|3.623     |2.0   |(18,[3],[1.0]) |\n",
            "|648   |24086 |Harley Davidson and the Marlboro Man|3.623     |2.0   |(18,[1],[1.0]) |\n",
            "|648   |24086 |Harley Davidson and the Marlboro Man|3.623     |2.0   |(18,[3],[1.0]) |\n",
            "|670   |24086 |Harley Davidson and the Marlboro Man|3.623     |5.0   |(18,[1],[1.0]) |\n",
            "|670   |24086 |Harley Davidson and the Marlboro Man|3.623     |5.0   |(18,[3],[1.0]) |\n",
            "+------+------+------------------------------------+----------+------+---------------+\n",
            "only showing top 20 rows\n",
            "\n"
          ]
        }
      ]
    },
    {
      "cell_type": "code",
      "source": [
        "# Ensure there are no missing ratings\n",
        "final_df_selected = final_df_selected.dropna(subset=['rating'])\n",
        "\n",
        "# Split data into training and test sets\n",
        "(training_data, test_data) = final_df_selected.randomSplit([0.8, 0.2], seed=1234)"
      ],
      "metadata": {
        "id": "aqDJyDjiNnyx"
      },
      "execution_count": 9,
      "outputs": []
    },
    {
      "cell_type": "code",
      "source": [
        "# Function to train and evaluate ALS model\n",
        "def train_evaluate_als(rank_value):\n",
        "    als = ALS(\n",
        "        userCol=\"userId\",\n",
        "        itemCol=\"tmdbId\",\n",
        "        ratingCol=\"rating\",\n",
        "        maxIter=20,  # Keeping iterations constant\n",
        "        rank=rank_value,  # Adjusting rank\n",
        "        regParam=0.05,  # Regularization\n",
        "        alpha=0.5,  # For implicit feedback (if applicable)\n",
        "        coldStartStrategy=\"drop\"\n",
        "    )\n",
        "\n",
        "    # Train the model\n",
        "    model = als.fit(training_data)\n",
        "\n",
        "    # Get predictions\n",
        "    predictions = model.transform(test_data)\n",
        "\n",
        "    # Evaluate R-squared\n",
        "    evaluator_r2 = RegressionEvaluator(metricName=\"r2\", labelCol=\n",
        "\n",
        "\n",
        "                                       \"rating\", predictionCol=\"prediction\")\n",
        "    r2 = evaluator_r2.evaluate(predictions)\n",
        "\n",
        "    print(f\"R-squared for rank={rank_value}: {r2}\")\n",
        "    return r2\n",
        "\n",
        "# Test different rank values\n",
        "ranks = [15, 50, 100]\n",
        "r2_results = {rank: train_evaluate_als(rank) for rank in ranks}\n",
        "\n",
        "# Display best performing rank\n",
        "best_rank = max(r2_results, key=r2_results.get)\n",
        "print(f\"\\nBest rank: {best_rank} with R-squared: {r2_results[best_rank]}\")"
      ],
      "metadata": {
        "colab": {
          "base_uri": "https://localhost:8080/"
        },
        "id": "z6hmrxLaNn3J",
        "outputId": "1fded4fd-ddc7-4d65-c9ed-fbc148d914bf"
      },
      "execution_count": 26,
      "outputs": [
        {
          "output_type": "stream",
          "name": "stdout",
          "text": [
            "R-squared for rank=15: 0.5976689178260808\n",
            "R-squared for rank=50: 0.7091643509512533\n",
            "R-squared for rank=100: 0.7472547824673609\n",
            "\n",
            "Best rank: 100 with R-squared: 0.7472547824673609\n"
          ]
        }
      ]
    },
    {
      "cell_type": "code",
      "source": [
        "predictions.select(F.min(\"prediction\").alias(\"min_prediction\"),\n",
        "                   F.max(\"prediction\").alias(\"max_prediction\")).show()"
      ],
      "metadata": {
        "colab": {
          "base_uri": "https://localhost:8080/"
        },
        "id": "m8kwBvpRuzKc",
        "outputId": "412ce89e-633c-48ad-8ad8-f57bbc2bd78e"
      },
      "execution_count": 42,
      "outputs": [
        {
          "output_type": "stream",
          "name": "stdout",
          "text": [
            "+--------------+--------------+\n",
            "|min_prediction|max_prediction|\n",
            "+--------------+--------------+\n",
            "|    -0.6389645|     6.1329803|\n",
            "+--------------+--------------+\n",
            "\n"
          ]
        }
      ]
    },
    {
      "cell_type": "code",
      "source": [
        "# Generate top N recommendations for all users\n",
        "top_n_recommendations = model.recommendForAllUsers(10)  # Top 10 recommendations per user\n",
        "\n",
        "# Explode the recommendations to get one row per movie recommendation\n",
        "exploded_recommendations = top_n_recommendations.select(\n",
        "    \"userId\",\n",
        "    explode(\"recommendations\").alias(\"recommendation\")\n",
        ")\n",
        "\n",
        "# Extract tmdbId and other details from the exploded recommendations\n",
        "final_recommendations = exploded_recommendations.select(\n",
        "    \"userId\",\n",
        "    col(\"recommendation.tmdbId\").alias(\"tmdbId\"),\n",
        "    col(\"recommendation.rating\").alias(\"predicted_rating\")\n",
        ")\n",
        "\n",
        "# Now join the recommendations with the movie metadata\n",
        "final_with_metadata = final_recommendations.join(df_with_tmdb, \"tmdbId\", \"inner\")\n",
        "\n",
        "# Show the recommendations with movie details (title, popularity, genre, etc.)\n",
        "final_with_metadata.show(truncate=False)"
      ],
      "metadata": {
        "colab": {
          "base_uri": "https://localhost:8080/"
        },
        "id": "hWPaqq6UOXKD",
        "outputId": "bd3bb1e6-8e0f-47eb-eab8-f705350c9fc6"
      },
      "execution_count": 57,
      "outputs": [
        {
          "output_type": "stream",
          "name": "stdout",
          "text": [
            "+------+------+----------------+-------+-------------------+----------+----------+-----------+---------------+------+\n",
            "|tmdbId|userId|predicted_rating|movieId|name               |popularity|genre_name|genre_index|genre_vec      |imdbId|\n",
            "+------+------+----------------+-------+-------------------+----------+----------+-----------+---------------+------+\n",
            "|1959  |57    |5.116563        |1656   |The Legend of Zorro|3.59      |Action    |1.0        |(18,[1],[1.0]) |120257|\n",
            "|1959  |57    |5.116563        |1656   |The Legend of Zorro|3.59      |Adventure |4.0        |(18,[4],[1.0]) |120257|\n",
            "|1959  |57    |5.116563        |1656   |The Legend of Zorro|3.59      |Western   |17.0       |(18,[17],[1.0])|120257|\n",
            "|1645  |120   |4.672034        |805    |Rosemary's Baby    |4.486     |Drama     |0.0        |(18,[0],[1.0]) |117913|\n",
            "|1645  |120   |4.672034        |805    |Rosemary's Baby    |4.486     |Horror    |6.0        |(18,[6],[1.0]) |117913|\n",
            "|1645  |120   |4.672034        |805    |Rosemary's Baby    |4.486     |Thriller  |3.0        |(18,[3],[1.0]) |117913|\n",
            "|1645  |127   |5.0474796       |805    |Rosemary's Baby    |4.486     |Drama     |0.0        |(18,[0],[1.0]) |117913|\n",
            "|1645  |127   |5.0474796       |805    |Rosemary's Baby    |4.486     |Horror    |6.0        |(18,[6],[1.0]) |117913|\n",
            "|1645  |127   |5.0474796       |805    |Rosemary's Baby    |4.486     |Thriller  |3.0        |(18,[3],[1.0]) |117913|\n",
            "|1580  |133   |4.187997        |2176   |The Glass House    |3.58      |Drama     |0.0        |(18,[0],[1.0]) |40746 |\n",
            "|1580  |133   |4.187997        |2176   |The Glass House    |3.58      |Thriller  |3.0        |(18,[3],[1.0]) |40746 |\n",
            "|1959  |196   |4.453173        |1656   |The Legend of Zorro|3.59      |Action    |1.0        |(18,[1],[1.0]) |120257|\n",
            "|1959  |196   |4.453173        |1656   |The Legend of Zorro|3.59      |Adventure |4.0        |(18,[4],[1.0]) |120257|\n",
            "|1959  |196   |4.453173        |1656   |The Legend of Zorro|3.59      |Western   |17.0       |(18,[17],[1.0])|120257|\n",
            "|1645  |209   |4.9326243       |805    |Rosemary's Baby    |4.486     |Drama     |0.0        |(18,[0],[1.0]) |117913|\n",
            "|1645  |209   |4.9326243       |805    |Rosemary's Baby    |4.486     |Horror    |6.0        |(18,[6],[1.0]) |117913|\n",
            "|1645  |209   |4.9326243       |805    |Rosemary's Baby    |4.486     |Thriller  |3.0        |(18,[3],[1.0]) |117913|\n",
            "|1645  |232   |4.8131094       |805    |Rosemary's Baby    |4.486     |Drama     |0.0        |(18,[0],[1.0]) |117913|\n",
            "|1645  |232   |4.8131094       |805    |Rosemary's Baby    |4.486     |Horror    |6.0        |(18,[6],[1.0]) |117913|\n",
            "|1645  |232   |4.8131094       |805    |Rosemary's Baby    |4.486     |Thriller  |3.0        |(18,[3],[1.0]) |117913|\n",
            "+------+------+----------------+-------+-------------------+----------+----------+-----------+---------------+------+\n",
            "only showing top 20 rows\n",
            "\n"
          ]
        }
      ]
    },
    {
      "cell_type": "code",
      "source": [],
      "metadata": {
        "id": "6pQaO7J8OXTg"
      },
      "execution_count": 51,
      "outputs": []
    },
    {
      "cell_type": "code",
      "source": [
        "\n",
        "\n"
      ],
      "metadata": {
        "id": "GTFxa4NsS2OF"
      },
      "execution_count": 29,
      "outputs": []
    }
  ]
}