{
  "cells": [
    {
      "cell_type": "code",
      "execution_count": 39,
      "metadata": {
        "id": "TKWW1-MV_CXV"
      },
      "outputs": [],
      "source": [
        "# Import necessary libraries\n",
        "from pyspark.sql import SparkSession\n",
        "from pyspark.sql.functions import col, when, rand\n",
        "from pyspark.ml.recommendation import ALS\n",
        "from pyspark.ml.evaluation import RegressionEvaluator\n",
        "from pyspark.sql.types import IntegerType\n",
        "from pyspark.sql.functions import hash, col\n",
        "from pyspark.sql.types import IntegerType\n",
        "from pyspark.sql.functions import col, abs"
      ]
    },
    {
      "cell_type": "code",
      "execution_count": null,
      "metadata": {
        "id": "HrQEiMuS_CXV"
      },
      "outputs": [],
      "source": [
        "# Step 1: Initialize Spark Session\n",
        "#spark = SparkSession.builder \\\n",
        " #   .appName(\"MovieRecommendation\") \\\n",
        " #   .getOrCreate()"
      ]
    },
    {
      "cell_type": "code",
      "execution_count": 40,
      "metadata": {
        "colab": {
          "base_uri": "https://localhost:8080/"
        },
        "id": "NStCeKMw_CXV",
        "outputId": "89db22b7-2cce-4b5e-bda0-92804d3a4ccb"
      },
      "outputs": [
        {
          "output_type": "stream",
          "name": "stdout",
          "text": [
            "\r0% [Working]\r            \rHit:1 https://developer.download.nvidia.com/compute/cuda/repos/ubuntu2204/x86_64  InRelease\n",
            "\r0% [Connecting to archive.ubuntu.com] [Connecting to security.ubuntu.com (185.125.190.82)] [Connecte\r                                                                                                    \rHit:2 https://cloud.r-project.org/bin/linux/ubuntu jammy-cran40/ InRelease\n",
            "Hit:3 http://archive.ubuntu.com/ubuntu jammy InRelease\n",
            "Get:4 http://archive.ubuntu.com/ubuntu jammy-updates InRelease [128 kB]\n",
            "Get:5 http://security.ubuntu.com/ubuntu jammy-security InRelease [129 kB]\n",
            "Hit:6 https://r2u.stat.illinois.edu/ubuntu jammy InRelease\n",
            "Hit:7 http://archive.ubuntu.com/ubuntu jammy-backports InRelease\n",
            "Hit:8 https://ppa.launchpadcontent.net/deadsnakes/ppa/ubuntu jammy InRelease\n",
            "Hit:9 https://ppa.launchpadcontent.net/graphics-drivers/ppa/ubuntu jammy InRelease\n",
            "Hit:10 https://ppa.launchpadcontent.net/ubuntugis/ppa/ubuntu jammy InRelease\n",
            "Fetched 257 kB in 1s (182 kB/s)\n",
            "Reading package lists... Done\n",
            "W: Skipping acquire of configured file 'main/source/Sources' as repository 'https://r2u.stat.illinois.edu/ubuntu jammy InRelease' does not seem to provide it (sources.list entry misspelt?)\n"
          ]
        }
      ],
      "source": [
        "import os\n",
        "# Find the latest version of spark 3.x  from https://downloads.apache.org/spark/ and enter as the spark version\n",
        "# For example:\n",
        "# spark_version = 'spark-3.5.5'\n",
        "spark_version = 'spark-3.5.5'\n",
        "os.environ['SPARK_VERSION']=spark_version\n",
        "\n",
        "# Install Spark and Java\n",
        "!apt-get update\n",
        "!apt-get install openjdk-11-jdk-headless -qq > /dev/null\n",
        "!wget -q https://downloads.apache.org/spark/$SPARK_VERSION/$SPARK_VERSION-bin-hadoop3.tgz\n",
        "!tar xf $SPARK_VERSION-bin-hadoop3.tgz\n",
        "!pip install -q findspark\n",
        "\n",
        "# Set Environment Variables\n",
        "os.environ[\"JAVA_HOME\"] = \"/usr/lib/jvm/java-11-openjdk-amd64\"\n",
        "os.environ[\"SPARK_HOME\"] = f\"/content/{spark_version}-bin-hadoop3\"\n",
        "\n",
        "# Start a SparkSession\n",
        "import findspark\n",
        "findspark.init()"
      ]
    },
    {
      "cell_type": "code",
      "execution_count": 43,
      "metadata": {
        "id": "7aUHPNJN_CXW"
      },
      "outputs": [],
      "source": [
        "# Start Spark session\n",
        "from pyspark.sql import SparkSession\n",
        "spark = SparkSession.builder.appName(\"sparkDates\").getOrCreate()"
      ]
    },
    {
      "cell_type": "code",
      "execution_count": 44,
      "metadata": {
        "id": "8cbV5b4r_CXW"
      },
      "outputs": [],
      "source": [
        "# Step 2: Load the dataset (replace with your actual dataset path)\n",
        "\n",
        "df = spark.read.json(\"/content/movie_results.json\")"
      ]
    },
    {
      "cell_type": "code",
      "execution_count": 45,
      "metadata": {
        "colab": {
          "base_uri": "https://localhost:8080/"
        },
        "id": "NTzbAl3l_CXW",
        "outputId": "ad4b6664-4472-438d-892d-f580c3d20855"
      },
      "outputs": [
        {
          "output_type": "stream",
          "name": "stdout",
          "text": [
            "+-------+--------------------+------------+----------+\n",
            "|     id|               title|vote_average|vote_count|\n",
            "+-------+--------------------+------------+----------+\n",
            "| 950396|           The Gorge|       7.775|      1813|\n",
            "|1126166|         Flight Risk|       6.086|       429|\n",
            "|1064213|               Anora|       7.066|      1601|\n",
            "| 762509|Mufasa: The Lion ...|         7.5|      1601|\n",
            "|1241982|             Moana 2|         7.2|      1809|\n",
            "+-------+--------------------+------------+----------+\n",
            "only showing top 5 rows\n",
            "\n"
          ]
        }
      ],
      "source": [
        "# Step 3: Data Cleaning & Filtering\n",
        "# Step 2: Data Preprocessing\n",
        "\n",
        "df_filtered = df.select(\"id\", \"title\", \"vote_average\", \"vote_count\").filter(\n",
        "    (col(\"vote_average\").isNotNull()) & (col(\"vote_count\") >= 50)\n",
        ")\n",
        "    # Check the first few rows of the filtered data\n",
        "df_filtered.show(5)"
      ]
    },
    {
      "cell_type": "code",
      "source": [
        "# Step 3: Simulate Users for ALS Model\n",
        "# Create user_id by hashing the movie_id to ensure overlap and make it positive\n",
        "df_filtered = df_filtered.withColumn(\"user_id\", abs((hash(\"id\") % 1000)).cast(IntegerType()))\n",
        "\n",
        "# Check the first few rows to ensure the user_id is created\n",
        "df_filtered.select(\"user_id\", \"id\", \"vote_average\").show(5)"
      ],
      "metadata": {
        "colab": {
          "base_uri": "https://localhost:8080/"
        },
        "id": "NfMThU7IAyvw",
        "outputId": "6c4a975c-e726-46e6-a0e1-6516771c116f"
      },
      "execution_count": 46,
      "outputs": [
        {
          "output_type": "stream",
          "name": "stdout",
          "text": [
            "+-------+-------+------------+\n",
            "|user_id|     id|vote_average|\n",
            "+-------+-------+------------+\n",
            "|    610| 950396|       7.775|\n",
            "|    671|1126166|       6.086|\n",
            "|    860|1064213|       7.066|\n",
            "|    718| 762509|         7.5|\n",
            "|    579|1241982|         7.2|\n",
            "+-------+-------+------------+\n",
            "only showing top 5 rows\n",
            "\n"
          ]
        }
      ]
    },
    {
      "cell_type": "code",
      "source": [
        "# Step 4: Prepare Data for ALS (ALS expects columns: user_id, movie_id, rating)\n",
        "# Step 4: Prepare Data for ALS (ALS expects columns: user_id, movie_id, rating)\n",
        "df_ratings = df_filtered.withColumnRenamed(\"vote_average\", \"rating\") \\\n",
        "                        .select(\"user_id\", \"id\", \"rating\")"
      ],
      "metadata": {
        "id": "8ymne9RjP2G4"
      },
      "execution_count": 47,
      "outputs": []
    },
    {
      "cell_type": "code",
      "source": [
        "\n"
      ],
      "metadata": {
        "id": "eioE-40sq-y4"
      },
      "execution_count": 63,
      "outputs": []
    },
    {
      "cell_type": "code",
      "source": [
        "import random\n",
        "\n",
        "# Get distinct users\n",
        "users = df_ratings.select(\"user_id\").distinct().collect()\n",
        "\n",
        "# Randomly shuffle the users to get a mix of train and test users\n",
        "random.seed(42)\n",
        "random.shuffle(users)\n",
        "\n",
        "# Split the users into training (80%) and testing (20%) with some overlap\n",
        "train_users = users[:int(0.8 * len(users))]  # 80% for training\n",
        "test_users = users[int(0.7 * len(users)):]   # 20% for testing (with overlap from 70% onward)\n",
        "\n",
        "# Create lists of user_ids for train and test sets\n",
        "train_user_list = [user['user_id'] for user in train_users]\n",
        "test_user_list = [user['user_id'] for user in test_users]\n",
        "\n",
        "# Filter original data for train and test based on users\n",
        "train_data = df_ratings.filter(df_ratings[\"user_id\"].isin(train_user_list))\n",
        "test_data = df_ratings.filter(df_ratings[\"user_id\"].isin(test_user_list))\n",
        "\n",
        "# Manually ensure overlap: Add some random user-movie pairs from the test set to the train set\n",
        "overlap_size = 100  # Number of overlapping pairs\n",
        "overlap_pairs = test_data.orderBy(\"user_id\", \"id\").limit(overlap_size)\n",
        "\n",
        "# Merge the overlap pairs with the train_data\n",
        "train_data_with_overlap = train_data.union(overlap_pairs)\n",
        "\n",
        "# Verify overlap again\n",
        "train_pairs = train_data_with_overlap.select(\"user_id\", \"id\").distinct().collect()\n",
        "test_pairs = test_data.select(\"user_id\", \"id\").distinct().collect()\n",
        "\n",
        "train_set = set([(row['user_id'], row['id']) for row in train_pairs])\n",
        "test_set = set([(row['user_id'], row['id']) for row in test_pairs])\n",
        "\n",
        "# Find the overlap between train and test sets\n",
        "overlap = train_set.intersection(test_set)\n",
        "print(f\"Overlapping user-movie pairs: {len(overlap)}\")\n"
      ],
      "metadata": {
        "id": "H7F3HkV7A6zX",
        "colab": {
          "base_uri": "https://localhost:8080/"
        },
        "outputId": "eb53ce5d-82df-4f0b-ccfe-2b5e713bb68f"
      },
      "execution_count": 48,
      "outputs": [
        {
          "output_type": "stream",
          "name": "stdout",
          "text": [
            "Overlapping user-movie pairs: 717\n"
          ]
        }
      ]
    },
    {
      "cell_type": "code",
      "source": [],
      "metadata": {
        "id": "PPzkFQIGq9RQ"
      },
      "execution_count": null,
      "outputs": []
    },
    {
      "cell_type": "code",
      "source": [
        "# Step 2: Check for overlapping user-movie pairs between train and test\n",
        "# Step 7: Handle Overlapping User-Movie Pairs between Train and Test Data\n",
        "train_user_movie_pairs = train_data.select(\"user_id\", \"id\").distinct()\n",
        "test_user_movie_pairs = test_data.select(\"user_id\", \"id\").distinct()\n",
        "\n",
        "overlapping_pairs = train_user_movie_pairs.join(test_user_movie_pairs, on=[\"user_id\", \"id\"], how=\"inner\")\n",
        "\n",
        "print(f\"Overlapping user-movie pairs: {overlapping_pairs.count()}\")\n"
      ],
      "metadata": {
        "colab": {
          "base_uri": "https://localhost:8080/"
        },
        "id": "a38bitSsNAEo",
        "outputId": "9fe3067f-7e13-46a1-d420-1179a707d563"
      },
      "execution_count": 49,
      "outputs": [
        {
          "output_type": "stream",
          "name": "stdout",
          "text": [
            "Overlapping user-movie pairs: 669\n"
          ]
        }
      ]
    },
    {
      "cell_type": "code",
      "source": [
        "# Show the column names in both DataFrames\n",
        "print(\"df_ratings columns:\", df_ratings.columns)\n",
        "print(\"df_filtered columns:\", df_filtered.columns)"
      ],
      "metadata": {
        "colab": {
          "base_uri": "https://localhost:8080/"
        },
        "id": "_OKiSGW8Vr0o",
        "outputId": "928edc8f-1b9b-4a33-bcd6-e45c3dabf12c"
      },
      "execution_count": 50,
      "outputs": [
        {
          "output_type": "stream",
          "name": "stdout",
          "text": [
            "df_ratings columns: ['user_id', 'id', 'rating']\n",
            "df_filtered columns: ['id', 'title', 'vote_average', 'vote_count', 'user_id']\n"
          ]
        }
      ]
    },
    {
      "cell_type": "code",
      "source": [
        "# Step 1: Perform inner join between df_ratings and df_filtered on movie 'id'\n",
        "common_movies = df_ratings.join(df_filtered, 'id', 'inner')\n",
        "\n",
        "# Step 2: Resolve column name ambiguity\n",
        "# Since both df_ratings and df_filtered have 'user_id', let's rename 'user_id' in df_filtered\n",
        "df_filtered = df_filtered.withColumnRenamed('user_id', 'movie_user_id')\n",
        "\n",
        "# Join again after renaming to avoid ambiguity\n",
        "common_movies = df_ratings.join(df_filtered, 'id', 'inner')\n",
        "\n",
        "# Step 3: Select only relevant columns\n",
        "common_movies = common_movies.select(\n",
        "    'user_id', 'title', 'rating', 'vote_average', 'vote_count'\n",
        ")\n",
        "\n",
        "# Step 4: Show the common movies\n",
        "common_movies.show(10)"
      ],
      "metadata": {
        "colab": {
          "base_uri": "https://localhost:8080/"
        },
        "id": "KkxruBipV393",
        "outputId": "9deb6382-4b65-40b2-ab8f-cb3fc02e898c"
      },
      "execution_count": 51,
      "outputs": [
        {
          "output_type": "stream",
          "name": "stdout",
          "text": [
            "+-------+--------------------+------+------------+----------+\n",
            "|user_id|               title|rating|vote_average|vote_count|\n",
            "+-------+--------------------+------+------------+----------+\n",
            "|    610|           The Gorge| 7.775|       7.775|      1813|\n",
            "|    671|         Flight Risk| 6.086|       6.086|       429|\n",
            "|    860|               Anora| 7.066|       7.066|      1601|\n",
            "|    718|Mufasa: The Lion ...|   7.5|         7.5|      1601|\n",
            "|    579|             Moana 2|   7.2|         7.2|      1809|\n",
            "|    328|Sonic the Hedgehog 3|   7.7|         7.7|      2123|\n",
            "|    599|Captain America: ...| 6.156|       6.156|       967|\n",
            "|      2|                Flow| 8.298|       8.298|      1461|\n",
            "|    660|              Amaran|   7.4|         7.4|       188|\n",
            "|    431|           Mickey 17| 7.039|       7.039|       384|\n",
            "+-------+--------------------+------+------------+----------+\n",
            "only showing top 10 rows\n",
            "\n"
          ]
        }
      ]
    },
    {
      "cell_type": "code",
      "source": [
        "# Step 5: Analyzing the ratings\n",
        "# Find the average rating per movie\n",
        "avg_ratings = common_movies.groupBy('title').agg({'rating': 'avg'}).withColumnRenamed('avg(rating)', 'avg_rating')\n",
        "avg_ratings.show(10)\n",
        "\n",
        "# Step 6: Recommend top 5 movies based on highest average rating\n",
        "top_movies = avg_ratings.orderBy(col('avg_rating').desc()).limit(5)\n",
        "top_movies.show()"
      ],
      "metadata": {
        "colab": {
          "base_uri": "https://localhost:8080/"
        },
        "id": "j1qXIEfyWbb4",
        "outputId": "9bae9734-9dfe-40cf-a2c3-d17469964a9e"
      },
      "execution_count": 52,
      "outputs": [
        {
          "output_type": "stream",
          "name": "stdout",
          "text": [
            "+--------------------+----------+\n",
            "|               title|avg_rating|\n",
            "+--------------------+----------+\n",
            "|Raya and the Last...|     7.841|\n",
            "|Penguins of Madag...|     6.525|\n",
            "|            Warcraft|      6.38|\n",
            "|            Poseidon|     5.856|\n",
            "|     My Name Is Khan|       8.0|\n",
            "|  The Last Airbender|     4.637|\n",
            "|My Cousin the Sex...|     6.938|\n",
            "|          The Ritual|     6.257|\n",
            "|Before I Go to Sleep|       6.5|\n",
            "|    The Last Warrior|       6.9|\n",
            "+--------------------+----------+\n",
            "only showing top 10 rows\n",
            "\n",
            "+--------------------+----------+\n",
            "|               title|avg_rating|\n",
            "+--------------------+----------+\n",
            "|                Nude|       9.5|\n",
            "|            Succubus|       9.5|\n",
            "|           Kill Shot|     9.201|\n",
            "|The Shawshank Red...|     8.708|\n",
            "|       The Godfather|     8.689|\n",
            "+--------------------+----------+\n",
            "\n"
          ]
        }
      ]
    },
    {
      "cell_type": "code",
      "source": [
        "print(f\"Train data user-movie pairs count: {train_user_movie_pairs.count()}\")\n",
        "print(f\"Test data user-movie pairs count: {test_user_movie_pairs.count()}\")"
      ],
      "metadata": {
        "colab": {
          "base_uri": "https://localhost:8080/"
        },
        "id": "UzP81rDjQof4",
        "outputId": "03653733-66cc-4baa-8f69-02a21a695add"
      },
      "execution_count": 53,
      "outputs": [
        {
          "output_type": "stream",
          "name": "stdout",
          "text": [
            "Train data user-movie pairs count: 5087\n",
            "Test data user-movie pairs count: 1872\n"
          ]
        }
      ]
    },
    {
      "cell_type": "code",
      "source": [
        "# Step 6: Build ALS Model\n",
        "als = ALS(rank=10, maxIter=10, regParam=0.1, userCol=\"user_id\", itemCol=\"id\", ratingCol=\"rating\", coldStartStrategy=\"drop\")\n",
        "model = als.fit(train_data)"
      ],
      "metadata": {
        "id": "ZoSGZdAWMbK_"
      },
      "execution_count": 54,
      "outputs": []
    },
    {
      "cell_type": "code",
      "source": [],
      "metadata": {
        "id": "K5gnn2gzL1gw"
      },
      "execution_count": null,
      "outputs": []
    },
    {
      "cell_type": "code",
      "source": [],
      "metadata": {
        "id": "m5PVNyHiKh6X"
      },
      "execution_count": null,
      "outputs": []
    },
    {
      "cell_type": "code",
      "source": [
        "# Step 8: Generate Predictions\n",
        "predictions = model.transform(test_data).na.drop()\n",
        "print(f\"Total predictions: {predictions.count()}\")"
      ],
      "metadata": {
        "colab": {
          "base_uri": "https://localhost:8080/"
        },
        "id": "qbyilrxJMEqG",
        "outputId": "88854045-c869-4877-d77a-1bff4ef95e6f"
      },
      "execution_count": 55,
      "outputs": [
        {
          "output_type": "stream",
          "name": "stdout",
          "text": [
            "Total predictions: 669\n"
          ]
        }
      ]
    },
    {
      "cell_type": "code",
      "source": [
        "# If there are no predictions, print a warning\n",
        "# Step 9: Show Prediction Data\n",
        "print(f\"Total predictions: {predictions.count()}\")\n",
        "\n",
        "# Corrected column names: Use 'id' for movie_id instead of 'movie_id'\n",
        "predictions.select(\"id\", \"user_id\", \"rating\", \"prediction\").show(10, truncate=False)"
      ],
      "metadata": {
        "colab": {
          "base_uri": "https://localhost:8080/"
        },
        "id": "MojM4cAVMAi-",
        "outputId": "b15fda71-19a5-44d1-a36b-a0ea8ab7b368"
      },
      "execution_count": 56,
      "outputs": [
        {
          "output_type": "stream",
          "name": "stdout",
          "text": [
            "Total predictions: 669\n",
            "+-------+-------+------+----------+\n",
            "|id     |user_id|rating|prediction|\n",
            "+-------+-------+------+----------+\n",
            "|1029281|471    |6.928 |6.882636  |\n",
            "|495764 |471    |6.905 |6.859787  |\n",
            "|845111 |471    |6.437 |6.3948507 |\n",
            "|929    |471    |5.6   |5.563331  |\n",
            "|859    |471    |7.199 |7.151861  |\n",
            "|1685   |471    |6.144 |6.1037693 |\n",
            "|960481 |471    |7.2   |7.152854  |\n",
            "|340382 |737    |6.1   |6.060641  |\n",
            "|3093   |451    |5.005 |4.974099  |\n",
            "|22881  |451    |7.672 |7.6246324 |\n",
            "+-------+-------+------+----------+\n",
            "only showing top 10 rows\n",
            "\n"
          ]
        }
      ]
    },
    {
      "cell_type": "code",
      "source": [
        "# Step 10: Evaluate Model Performance\n",
        "if predictions.count() > 0:\n",
        "    evaluator = RegressionEvaluator(metricName=\"rmse\", labelCol=\"rating\", predictionCol=\"prediction\")\n",
        "    rmse = evaluator.evaluate(predictions)\n",
        "    print(f\"Root Mean Squared Error (RMSE): {rmse}\")\n",
        "else:\n",
        "    print(\"RMSE cannot be computed as no predictions were generated.\")"
      ],
      "metadata": {
        "colab": {
          "base_uri": "https://localhost:8080/"
        },
        "id": "hgxpxBcMLTAo",
        "outputId": "014220f4-8535-48bb-9e16-930b93b6d5a8"
      },
      "execution_count": 57,
      "outputs": [
        {
          "output_type": "stream",
          "name": "stdout",
          "text": [
            "Root Mean Squared Error (RMSE): 0.04274500234148901\n"
          ]
        }
      ]
    },
    {
      "cell_type": "code",
      "execution_count": 58,
      "metadata": {
        "colab": {
          "base_uri": "https://localhost:8080/"
        },
        "id": "wSuveWMV_CXW",
        "outputId": "caef648d-a6ed-4a60-b6ec-fcb9cf8974ad"
      },
      "outputs": [
        {
          "output_type": "stream",
          "name": "stdout",
          "text": [
            "['id', 'title', 'vote_average', 'vote_count', 'movie_user_id']\n"
          ]
        }
      ],
      "source": [
        "print(df_filtered.columns)"
      ]
    },
    {
      "cell_type": "code",
      "source": [
        "df_ratings.columns"
      ],
      "metadata": {
        "colab": {
          "base_uri": "https://localhost:8080/"
        },
        "id": "5yaUjoymt0fz",
        "outputId": "06091817-c101-40f6-8635-ddc5f062d423"
      },
      "execution_count": 59,
      "outputs": [
        {
          "output_type": "execute_result",
          "data": {
            "text/plain": [
              "['user_id', 'id', 'rating']"
            ]
          },
          "metadata": {},
          "execution_count": 59
        }
      ]
    },
    {
      "cell_type": "code",
      "execution_count": null,
      "metadata": {
        "id": "7240llBu_CXX"
      },
      "outputs": [],
      "source": [
        "\n"
      ]
    },
    {
      "cell_type": "code",
      "execution_count": 61,
      "metadata": {
        "colab": {
          "base_uri": "https://localhost:8080/"
        },
        "id": "0pOSa_qn_CXX",
        "outputId": "c8f0225b-e36e-459d-f776-3e75132016fd"
      },
      "outputs": [
        {
          "output_type": "stream",
          "name": "stdout",
          "text": [
            "+--------------------+---------+------------+----------+\n",
            "|               title|   rating|vote_average|vote_count|\n",
            "+--------------------+---------+------------+----------+\n",
            "|New Gods: Nezha R...| 8.031101|       8.078|       449|\n",
            "|        Spider-Man 2|7.2456875|       7.288|     15347|\n",
            "|          The Father| 7.158721|       8.117|      3264|\n",
            "|              8 Mile| 7.095564|       7.137|      7369|\n",
            "|              Legend|7.0150347|       7.056|      3932|\n",
            "+--------------------+---------+------------+----------+\n",
            "\n"
          ]
        }
      ],
      "source": [
        "from pyspark.sql.functions import col, explode\n",
        "\n",
        "# Function to get movie recommendations\n",
        "def get_movie_recommendations(user_id, num_recommendations=5):\n",
        "    # Get the top N movie recommendations for the given user\n",
        "    user_recs = model.recommendForAllUsers(num_recommendations)\n",
        "\n",
        "    # Filter for the specific user\n",
        "    user_recs = user_recs.filter(col(\"user_id\") == user_id)\n",
        "\n",
        "    # Explode the recommendations array to get each movie_id and rating separately\n",
        "    user_recs_flat = user_recs.withColumn(\"recommendation\", explode(col(\"recommendations\"))) \\\n",
        "                               .select(\"user_id\", \"recommendation.id\", \"recommendation.rating\")\n",
        "\n",
        "    # Join with the movie details (from df_filtered) to get the titles, vote_average, etc.\n",
        "    movie_details = df_filtered.select(\"id\", \"title\", \"vote_average\", \"vote_count\")\n",
        "\n",
        "    # Join user recommendations with movie details on 'id' (movie ID)\n",
        "    recommendations_with_details = user_recs_flat.join(movie_details, user_recs_flat.id == movie_details.id, \"inner\")\n",
        "\n",
        "    # Show the top N recommendations with movie details (title, rating, vote_average, etc.)\n",
        "    recommendations_with_details.select(\"title\", \"rating\", \"vote_average\", \"vote_count\").show(num_recommendations)\n",
        "\n",
        "# Example usage: Get top 5 recommendations for user with user_id = 1\n",
        "get_movie_recommendations(1)\n",
        "\n"
      ]
    }
  ],
  "metadata": {
    "kernelspec": {
      "display_name": "dev",
      "language": "python",
      "name": "python3"
    },
    "language_info": {
      "codemirror_mode": {
        "name": "ipython",
        "version": 3
      },
      "file_extension": ".py",
      "mimetype": "text/x-python",
      "name": "python",
      "nbconvert_exporter": "python",
      "pygments_lexer": "ipython3",
      "version": "3.10.15"
    },
    "colab": {
      "provenance": []
    }
  },
  "nbformat": 4,
  "nbformat_minor": 0
}