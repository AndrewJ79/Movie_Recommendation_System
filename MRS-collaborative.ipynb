{
  "cells": [
    {
      "cell_type": "code",
      "execution_count": 1,
      "metadata": {
        "colab": {
          "base_uri": "https://localhost:8080/"
        },
        "id": "Q2kuj7r0NYgy",
        "outputId": "8a14e5f2-ef6d-4c0f-b18c-91ad8e76b79e"
      },
      "outputs": [
        {
          "output_type": "stream",
          "name": "stdout",
          "text": [
            "Get:1 https://cloud.r-project.org/bin/linux/ubuntu jammy-cran40/ InRelease [3,632 B]\n",
            "Hit:2 http://archive.ubuntu.com/ubuntu jammy InRelease\n",
            "Get:3 https://r2u.stat.illinois.edu/ubuntu jammy InRelease [6,555 B]\n",
            "Get:4 http://security.ubuntu.com/ubuntu jammy-security InRelease [129 kB]\n",
            "Get:5 https://developer.download.nvidia.com/compute/cuda/repos/ubuntu2204/x86_64  InRelease [1,581 B]\n",
            "Get:6 http://archive.ubuntu.com/ubuntu jammy-updates InRelease [128 kB]\n",
            "Get:7 https://cloud.r-project.org/bin/linux/ubuntu jammy-cran40/ Packages [69.9 kB]\n",
            "Hit:8 https://ppa.launchpadcontent.net/deadsnakes/ppa/ubuntu jammy InRelease\n",
            "Hit:9 https://ppa.launchpadcontent.net/graphics-drivers/ppa/ubuntu jammy InRelease\n",
            "Hit:10 https://ppa.launchpadcontent.net/ubuntugis/ppa/ubuntu jammy InRelease\n",
            "Get:11 http://archive.ubuntu.com/ubuntu jammy-backports InRelease [127 kB]\n",
            "Get:12 https://r2u.stat.illinois.edu/ubuntu jammy/main amd64 Packages [2,675 kB]\n",
            "Get:13 https://developer.download.nvidia.com/compute/cuda/repos/ubuntu2204/x86_64  Packages [1,378 kB]\n",
            "Get:14 https://r2u.stat.illinois.edu/ubuntu jammy/main all Packages [8,754 kB]\n",
            "Get:15 http://security.ubuntu.com/ubuntu jammy-security/universe amd64 Packages [1,236 kB]\n",
            "Get:16 http://security.ubuntu.com/ubuntu jammy-security/main amd64 Packages [2,692 kB]\n",
            "Get:17 http://archive.ubuntu.com/ubuntu jammy-updates/universe amd64 Packages [1,535 kB]\n",
            "Get:18 http://archive.ubuntu.com/ubuntu jammy-updates/main amd64 Packages [3,000 kB]\n",
            "Fetched 21.7 MB in 4s (5,438 kB/s)\n",
            "Reading package lists... Done\n",
            "W: Skipping acquire of configured file 'main/source/Sources' as repository 'https://r2u.stat.illinois.edu/ubuntu jammy InRelease' does not seem to provide it (sources.list entry misspelt?)\n"
          ]
        }
      ],
      "source": [
        "import os\n",
        "# Find the latest version of spark 3.x  from https://downloads.apache.org/spark/ and enter as the spark version\n",
        "# For example:\n",
        "# spark_version = 'spark-3.5.5'\n",
        "spark_version = 'spark-3.5.5'\n",
        "os.environ['SPARK_VERSION']=spark_version\n",
        "\n",
        "# Install Spark and Java\n",
        "!apt-get update\n",
        "!apt-get install openjdk-11-jdk-headless -qq > /dev/null\n",
        "!wget -q https://downloads.apache.org/spark/$SPARK_VERSION/$SPARK_VERSION-bin-hadoop3.tgz\n",
        "!tar xf $SPARK_VERSION-bin-hadoop3.tgz\n",
        "!pip install -q findspark\n",
        "\n",
        "# Set Environment Variables\n",
        "os.environ[\"JAVA_HOME\"] = \"/usr/lib/jvm/java-11-openjdk-amd64\"\n",
        "os.environ[\"SPARK_HOME\"] = f\"/content/{spark_version}-bin-hadoop3\"\n",
        "\n",
        "# Start a SparkSession\n",
        "import findspark\n",
        "findspark.init()"
      ]
    },
    {
      "cell_type": "code",
      "execution_count": 2,
      "metadata": {
        "id": "4VT-uewYNbPA"
      },
      "outputs": [],
      "source": [
        "from pyspark.sql import SparkSession\n",
        "from pyspark.sql.functions import col, explode\n",
        "from pyspark.ml.feature import StringIndexer, OneHotEncoder\n",
        "from pyspark.ml import Pipeline\n",
        "from pyspark.ml.recommendation import ALS\n",
        "from pyspark.ml.evaluation import RegressionEvaluator\n",
        "from pyspark.ml.tuning import ParamGridBuilder, CrossValidator\n",
        "import json"
      ]
    },
    {
      "cell_type": "code",
      "execution_count": 3,
      "metadata": {
        "colab": {
          "base_uri": "https://localhost:8080/"
        },
        "id": "VqlOPnYgNdu_",
        "outputId": "99210158-16df-4183-8451-570553d21475"
      },
      "outputs": [
        {
          "output_type": "stream",
          "name": "stdout",
          "text": [
            "+-----+--------------------+---------------------+---------+-----+--------------------+--------------------+-------+----------+--------------+-----------------+--------------------+--------------------+----------+--------------------+--------------------+--------------------+------------+----------+-------+--------------------+--------+--------------------+--------------------+-----+------------+----------+\n",
            "|adult|       backdrop_path|belongs_to_collection|   budget|error|              genres|            homepage|     id|   imdb_id|origin_country|original_language|      original_title|            overview|popularity|         poster_path|production_companies|production_countries|release_date|   revenue|runtime|    spoken_languages|  status|             tagline|               title|video|vote_average|vote_count|\n",
            "+-----+--------------------+---------------------+---------+-----+--------------------+--------------------+-------+----------+--------------+-----------------+--------------------+--------------------+----------+--------------------+--------------------+--------------------+------------+----------+-------+--------------------+--------+--------------------+--------------------+-----+------------+----------+\n",
            "|false|/9nhjGaFLKtddDPtP...|                 NULL|        0| NULL|[{10749, Romance}...|https://tv.apple....| 950396|tt13654226|          [US]|               en|           The Gorge|Two highly traine...|   210.407|/7iMBZzVZtG0oBug4...|[{82819, /gXfFl9p...|[{US, United Stat...|  2025-02-13|         0|    127|[{English, en, En...|Released|The world's most ...|           The Gorge|false|       7.775|      1813|\n",
            "|false|/ek8CJRZchT9YIB4p...|                 NULL| 25000000| NULL|[{28, Action}, {5...|https://justwatch...|1126166|tt10078772|          [US]|               en|         Flight Risk|A U.S. Marshal es...|   199.997|/q0bCG4NX32iIEsRF...|[{1302, /zC3b70ix...|[{US, United Stat...|  2025-01-22|  40420193|     91|[{English, en, En...|Released| Y'all need a pilot?|         Flight Risk|false|       6.086|       429|\n",
            "|false|/87GU2ifjNYtgYtcR...|                 NULL|  6000000| NULL|[{18, Drama}, {35...|  https://anora.film|1064213|tt28607951|          [US]|               en|               Anora|A young sex worke...|   161.432|/qh8m8Udz0sCa5gy9...|[{88152, /zm1yRe1...|[{US, United Stat...|  2024-10-14|  46666620|    139|[{Armenian, hy, }...|Released|   Love is a hustle.|               Anora|false|       7.066|      1601|\n",
            "|false|/1w8kutrRucTd3wlY...| {/jIgM7YNVft0YGeX...|200000000| NULL|[{12, Adventure},...|https://movies.di...| 762509|tt13186482|          [US]|               en|Mufasa: The Lion ...|Mufasa, a cub los...|   140.813|/lurEK87kukWNaHd0...|[{2, /wdrCwmRnLFJ...|[{US, United Stat...|  2024-12-18| 700197856|    118|[{English, en, En...|Released|The story of an o...|Mufasa: The Lion ...|false|         7.5|      1601|\n",
            "|false|/zo8CIjJ2nfNOevqN...| {/7rgHEYy23gAmxTy...|150000000| NULL|[{16, Animation},...|https://movies.di...|1241982|tt13622970|          [US]|               en|             Moana 2|After receiving a...|   137.318|/aLVkiINlIeCkcZIz...|[{2, /wdrCwmRnLFJ...|[{CA, Canada}, {U...|  2024-11-21|1056396565|     99|[{English, en, En...|Released|The ocean is call...|             Moana 2|false|         7.2|      1809|\n",
            "+-----+--------------------+---------------------+---------+-----+--------------------+--------------------+-------+----------+--------------+-----------------+--------------------+--------------------+----------+--------------------+--------------------+--------------------+------------+----------+-------+--------------------+--------+--------------------+--------------------+-----+------------+----------+\n",
            "only showing top 5 rows\n",
            "\n"
          ]
        }
      ],
      "source": [
        "# Initialize Spark session\n",
        "spark = SparkSession.builder.appName(\"MoviesData\").getOrCreate()\n",
        "\n",
        "# Load the JSON file into a PySpark DataFrame\n",
        "df = spark.read.json(\"movie_results.json\")  # Replace with your JSON file path\n",
        "\n",
        "# Show the structure of the JSON to understand the data\n",
        "df.show(5)"
      ]
    },
    {
      "cell_type": "code",
      "execution_count": 4,
      "metadata": {
        "colab": {
          "base_uri": "https://localhost:8080/"
        },
        "id": "ujkd3Y00Nnu5",
        "outputId": "57340a25-115b-4e32-d37a-5c4b188c2a5e"
      },
      "outputs": [
        {
          "output_type": "stream",
          "name": "stdout",
          "text": [
            "+------+---+--------------------+------+\n",
            "|userId| id|               title|rating|\n",
            "+------+---+--------------------+------+\n",
            "|   610| 85|Raiders of the Lo...|   5.0|\n",
            "|   606| 85|Raiders of the Lo...|   3.5|\n",
            "|   603| 85|Raiders of the Lo...|   4.0|\n",
            "|   601| 85|Raiders of the Lo...|   4.0|\n",
            "|   600| 85|Raiders of the Lo...|   4.0|\n",
            "+------+---+--------------------+------+\n",
            "only showing top 5 rows\n",
            "\n"
          ]
        }
      ],
      "source": [
        "# Now join with ratings DataFrame (assuming 'ratings.csv' exists)\n",
        "ratings_df = spark.read.csv('ratings.csv', header=True, inferSchema=True)\n",
        "links_df = spark.read.csv('links.csv', header=True, inferSchema=True)\n",
        "\n",
        "# Join df with links_df on the 'id' column of df and 'tmdbId' in links_df\n",
        "df_with_movieId = df.join(links_df, df.id == links_df.tmdbId, how=\"inner\")\n",
        "\n",
        "# Join df_with_movieId with ratings_df on 'movieId'\n",
        "final_df = df_with_movieId.join(ratings_df, df_with_movieId.movieId == ratings_df.movieId, how=\"inner\")\n",
        "\n",
        "# Create a new DataFrame containing only userId, id (tmdbId), and rating\n",
        "user_rating_df = final_df.select(\"userId\", \"id\",\"title\", \"rating\")\n",
        "\n",
        "# Show the new DataFrame\n",
        "user_rating_df.show(5)\n"
      ]
    },
    {
      "cell_type": "code",
      "source": [
        "from pyspark.sql.types import IntegerType, FloatType\n",
        "\n",
        "# Cast columns to correct types\n",
        "user_rating_df = user_rating_df \\\n",
        "    .withColumn(\"userId\", user_rating_df[\"userId\"].cast(IntegerType())) \\\n",
        "    .withColumn(\"id\", user_rating_df[\"Id\"].cast(IntegerType())) \\\n",
        "    .withColumn(\"rating\", user_rating_df[\"rating\"].cast(FloatType()))\n",
        "\n",
        "# Show the transformed DataFrame\n",
        "user_rating_df.show(5)"
      ],
      "metadata": {
        "colab": {
          "base_uri": "https://localhost:8080/"
        },
        "id": "pjIAO-kZm65e",
        "outputId": "853b6e2b-2864-4292-b061-95095d251c9e"
      },
      "execution_count": 5,
      "outputs": [
        {
          "output_type": "stream",
          "name": "stdout",
          "text": [
            "+------+---+--------------------+------+\n",
            "|userId| id|               title|rating|\n",
            "+------+---+--------------------+------+\n",
            "|   610| 85|Raiders of the Lo...|   5.0|\n",
            "|   606| 85|Raiders of the Lo...|   3.5|\n",
            "|   603| 85|Raiders of the Lo...|   4.0|\n",
            "|   601| 85|Raiders of the Lo...|   4.0|\n",
            "|   600| 85|Raiders of the Lo...|   4.0|\n",
            "+------+---+--------------------+------+\n",
            "only showing top 5 rows\n",
            "\n"
          ]
        }
      ]
    },
    {
      "cell_type": "code",
      "source": [
        "# Split the data into training and test sets (80% train, 20% test)\n",
        "(training_data, test_data) = user_rating_df.randomSplit([0.8, 0.2], seed=42)\n",
        "\n",
        "# Show counts to verify split\n",
        "print(f\"Training data count: {training_data.count()}\")\n",
        "print(f\"Test data count: {test_data.count()}\")\n"
      ],
      "metadata": {
        "colab": {
          "base_uri": "https://localhost:8080/"
        },
        "id": "1F43R5z4m7Ov",
        "outputId": "482fa5e5-d269-44df-db66-bddc77706cef"
      },
      "execution_count": 6,
      "outputs": [
        {
          "output_type": "stream",
          "name": "stdout",
          "text": [
            "Training data count: 59527\n",
            "Test data count: 15029\n"
          ]
        }
      ]
    },
    {
      "cell_type": "code",
      "source": [
        "# Initialize ALS model\n",
        "als = ALS(\n",
        "    maxIter=10,         # Maximum number of iterations\n",
        "    regParam=0.1,       # Regularization parameter\n",
        "    rank=10,            # Rank of the factorization (latent factors)\n",
        "    userCol=\"userId\",   # Column name for user\n",
        "    itemCol=\"id\",   # Column name for item\n",
        "    ratingCol=\"rating\", # Column name for rating\n",
        "    coldStartStrategy=\"drop\"  # Drop rows with NaN predictions\n",
        ")\n",
        "\n",
        "# Train the ALS model on the training data\n",
        "model = als.fit(training_data)\n"
      ],
      "metadata": {
        "id": "D9JfJMsom7qu"
      },
      "execution_count": 7,
      "outputs": []
    },
    {
      "cell_type": "code",
      "source": [
        "# Make predictions on the test data\n",
        "predictions = model.transform(test_data)\n",
        "\n",
        "# Show the first few predictions\n",
        "predictions.show(5)"
      ],
      "metadata": {
        "colab": {
          "base_uri": "https://localhost:8080/"
        },
        "id": "9eh-aHKjm7_z",
        "outputId": "7bd63947-9484-421b-b3af-5a0f794935f2"
      },
      "execution_count": 8,
      "outputs": [
        {
          "output_type": "stream",
          "name": "stdout",
          "text": [
            "+------+-----+--------------------+------+----------+\n",
            "|userId|   id|               title|rating|prediction|\n",
            "+------+-----+--------------------+------+----------+\n",
            "|    42| 1645|      A Time to Kill|   5.0| 3.7372363|\n",
            "|    62|  496|Borat: Cultural L...|   4.0| 3.7295632|\n",
            "|    63|  496|Borat: Cultural L...|   3.0| 3.3783438|\n",
            "|    63|99861|Avengers: Age of ...|   4.0| 2.9949172|\n",
            "|    87| 7340|              Carrie|   3.5| 3.2054973|\n",
            "+------+-----+--------------------+------+----------+\n",
            "only showing top 5 rows\n",
            "\n"
          ]
        }
      ]
    },
    {
      "cell_type": "code",
      "source": [
        "from pyspark.ml.evaluation import RegressionEvaluator\n",
        "\n",
        "# Initialize the evaluator for different metrics\n",
        "rmse_evaluator = RegressionEvaluator(metricName=\"rmse\", labelCol=\"rating\", predictionCol=\"prediction\")\n",
        "r2_evaluator = RegressionEvaluator(metricName=\"r2\", labelCol=\"rating\", predictionCol=\"prediction\")\n",
        "mae_evaluator = RegressionEvaluator(metricName=\"mae\", labelCol=\"rating\", predictionCol=\"prediction\")\n",
        "\n",
        "# Calculate RMSE, R2, and MAE on the test data\n",
        "rmse = rmse_evaluator.evaluate(predictions)\n",
        "r2 = r2_evaluator.evaluate(predictions)\n",
        "mae = mae_evaluator.evaluate(predictions)\n",
        "\n",
        "# Print the evaluation metrics\n",
        "print(f\"Root Mean Squared Error (RMSE) = {rmse}\")\n",
        "print(f\"R-squared (R2) = {r2}\")\n",
        "print(f\"Mean Absolute Error (MAE) = {mae}\")\n"
      ],
      "metadata": {
        "colab": {
          "base_uri": "https://localhost:8080/"
        },
        "id": "zbrQQM3Cm8pW",
        "outputId": "af1667f1-e2ac-4d3c-fb47-0347beb19a01"
      },
      "execution_count": 9,
      "outputs": [
        {
          "output_type": "stream",
          "name": "stdout",
          "text": [
            "Root Mean Squared Error (RMSE) = 0.8513211907740307\n",
            "R-squared (R2) = 0.3232850925430484\n",
            "Mean Absolute Error (MAE) = 0.6579991852370197\n"
          ]
        }
      ]
    },
    {
      "cell_type": "code",
      "source": [],
      "metadata": {
        "id": "Q1ifc13xm9BD"
      },
      "execution_count": null,
      "outputs": []
    },
    {
      "cell_type": "code",
      "source": [
        "from pyspark.sql import functions as F\n",
        "# Generate recommendations for a specific user\n",
        "user_recommendations = model.recommendForUserSubset(training_data.filter(training_data.userId == 1), 10)\n",
        "\n",
        "\n",
        "# Flatten the recommendations array\n",
        "user_recommendations_flat = user_recommendations.withColumn(\"movie\", F.explode(\"recommendations\"))\n",
        "\n",
        "# Extract id and rating from the struct (instead of movieId, we now use id)\n",
        "user_recommendations_flat = user_recommendations_flat.withColumn(\"movieId\", user_recommendations_flat.movie.getItem(\"id\")) \\\n",
        "                                                     .withColumn(\"rating\", user_recommendations_flat.movie.getItem(\"rating\")) \\\n",
        "                                                     .drop(\"movie\")\n",
        "\n",
        "# Rename the 'userId' column in user_rating_df to avoid ambiguity\n",
        "user_rating_df = user_rating_df.withColumnRenamed(\"userId\", \"rating_userId\")\n",
        "\n",
        "# Rename 'rating' column in user_recommendations_flat to avoid ambiguity\n",
        "user_recommendations_flat = user_recommendations_flat.withColumnRenamed(\"rating\", \"predicted_rating\")\n",
        "\n",
        "# Perform the join as usual\n",
        "recommendations_with_titles = user_recommendations_flat.join(user_rating_df,\n",
        "                                                            user_recommendations_flat.movieId == user_rating_df.id,\n",
        "                                                            how=\"inner\")\n",
        "\n",
        "# Select the relevant columns: userId, title, and the predicted_rating column\n",
        "recommendations_with_titles = recommendations_with_titles.select(\"userId\", \"title\", \"predicted_rating\")\n",
        "\n",
        "\n",
        "\n",
        "#  Get distinct titles per user\n",
        "distinct_recommendations = recommendations_with_titles.distinct()\n",
        "\n",
        "distinct_recommendations.show(5)"
      ],
      "metadata": {
        "colab": {
          "base_uri": "https://localhost:8080/"
        },
        "id": "Ugbwz5dom9X4",
        "outputId": "920eb2f9-0266-4283-e6ce-283a1e71d3a1"
      },
      "execution_count": 10,
      "outputs": [
        {
          "output_type": "stream",
          "name": "stdout",
          "text": [
            "+------+--------------------+----------------+\n",
            "|userId|               title|predicted_rating|\n",
            "+------+--------------------+----------------+\n",
            "|     1|Hunt for the Wild...|        5.199287|\n",
            "|     1|           The Trial|        5.218118|\n",
            "|     1|Mamma Mia! Here W...|       5.2895665|\n",
            "|     1|      Enter the Void|       5.4748116|\n",
            "|     1|         Logan Lucky|       5.2895665|\n",
            "+------+--------------------+----------------+\n",
            "only showing top 5 rows\n",
            "\n"
          ]
        }
      ]
    },
    {
      "cell_type": "code",
      "execution_count": null,
      "metadata": {
        "id": "GTFxa4NsS2OF"
      },
      "outputs": [],
      "source": [
        "\n",
        "\n"
      ]
    }
  ],
  "metadata": {
    "colab": {
      "provenance": []
    },
    "kernelspec": {
      "display_name": "dev",
      "language": "python",
      "name": "python3"
    },
    "language_info": {
      "codemirror_mode": {
        "name": "ipython",
        "version": 3
      },
      "file_extension": ".py",
      "mimetype": "text/x-python",
      "name": "python",
      "nbconvert_exporter": "python",
      "pygments_lexer": "ipython3",
      "version": "3.10.15"
    }
  },
  "nbformat": 4,
  "nbformat_minor": 0
}