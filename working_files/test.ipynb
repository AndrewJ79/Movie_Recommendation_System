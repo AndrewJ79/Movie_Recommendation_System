{
 "cells": [
  {
   "cell_type": "code",
   "execution_count": null,
   "metadata": {},
   "outputs": [
    {
     "name": "stdout",
     "output_type": "stream",
     "text": [
      "+------+------------------------+----------+-------------+------+------+\n",
      "|tmdbId|name                    |popularity|genre_vec    |userId|rating|\n",
      "+------+------------------------+----------+-------------+------+------+\n",
      "|1726  |Iron Man                |6.034     |(9,[1],[1.0])|0     |10    |\n",
      "|1726  |Iron Man                |6.034     |(9,[2],[1.0])|0     |10    |\n",
      "|1726  |Iron Man                |6.034     |(9,[4],[1.0])|0     |10    |\n",
      "|10138 |Iron Man 2              |5.903     |(9,[3],[1.0])|0     |10    |\n",
      "|10138 |Iron Man 2              |5.903     |(9,[0],[1.0])|0     |10    |\n",
      "|10138 |Iron Man 2              |5.903     |(9,[5],[1.0])|0     |10    |\n",
      "|68721 |Iron Man 3              |5.74      |(9,[3],[1.0])|0     |10    |\n",
      "|68721 |Iron Man 3              |5.74      |(9,[6],[1.0])|0     |10    |\n",
      "|68721 |Iron Man 3              |5.74      |(9,[4],[1.0])|0     |10    |\n",
      "|10386 |The Iron Giant          |4.954     |(9,[1],[1.0])|0     |10    |\n",
      "|10386 |The Iron Giant          |4.954     |(9,[2],[1.0])|0     |10    |\n",
      "|10386 |The Iron Giant          |4.954     |(9,[7],[1.0])|0     |10    |\n",
      "|10386 |The Iron Giant          |4.954     |(9,[],[])    |0     |10    |\n",
      "|9313  |The Man in the Iron Mask|4.206     |(9,[8],[1.0])|0     |10    |\n",
      "|9313  |The Man in the Iron Mask|4.206     |(9,[0],[1.0])|0     |10    |\n",
      "|9313  |The Man in the Iron Mask|4.206     |(9,[5],[1.0])|0     |10    |\n",
      "+------+------------------------+----------+-------------+------+------+\n",
      "\n"
     ]
    }
   ],
   "source": [
    "from pyspark.sql import SparkSession\n",
    "from pyspark.sql.functions import col, explode, split\n",
    "from pyspark.ml.feature import StringIndexer, OneHotEncoder \n",
    "from pyspark.ml import Pipeline\n",
    "from pyspark.ml.feature import StringIndexerModel\n",
    "\n",
    "\n",
    "# Initialize Spark session\n",
    "spark = SparkSession.builder.appName(\"MovieGenreEncoding\").getOrCreate()\n",
    "\n",
    "spark.conf.set(\"spark.hadoop.io.nativeio.enabled\", \"false\")\n",
    "\n",
    "# Sample selected movie array from JavaScript\n",
    "selected_movies = [1726, 10138, 10386, 68721, 9313]\n",
    "\n",
    "# Load movie dataset\n",
    "df = spark.read.option(\"header\", \"true\").csv(\"movies_data.csv\")  # Change format if JSON\n",
    "\n",
    "# Filter movies by selected tmdbId values\n",
    "df_selected = df.filter(col(\"movieId\").isin(selected_movies))\n",
    "\n",
    "# Extract movie ID, name, and popularity\n",
    "df_metadata = df_selected.select(\n",
    "    col(\"movieId\").alias(\"tmdbId\"),\n",
    "    col(\"name\"),  # Corrected from title to name\n",
    "    col(\"popularity\")\n",
    ")\n",
    "\n",
    "# Convert `genres` column into an array and explode it\n",
    "df_genres = df_selected.select(\n",
    "    col(\"movieId\"),\n",
    "    explode(split(col(\"genres\"), \", \")).alias(\"genre_name\")  # Convert to array and explode\n",
    ")\n",
    "\n",
    "indexer = StringIndexer(inputCol=\"genre_name\", outputCol=\"genre_index\")\n",
    "\n",
    "# # Define paths for indexer model storage\n",
    "# indexer_model_path = \"genre_indexer_model\"\n",
    "\n",
    "# # Check if a saved indexer model exists and load it if available\n",
    "# import os\n",
    "# if os.path.exists(indexer_model_path):\n",
    "#     indexer = StringIndexerModel.load(indexer_model_path)\n",
    "# else:\n",
    "#     indexer = StringIndexer(inputCol=\"genre_name\", outputCol=\"genre_index\").fit(df_genres)\n",
    "#     indexer.write().overwrite().save(indexer_model_path)\n",
    "\n",
    "# OneHotEncoder for genre encoding\n",
    "encoder = OneHotEncoder(inputCol=\"genre_index\", outputCol=\"genre_vec\")\n",
    "\n",
    "# Index the genre names (convert them to numerical values)\n",
    "indexer = StringIndexer(inputCol=\"genre_name\", outputCol=\"genre_index\")\n",
    "\n",
    "# Encode the genre indices using OneHotEncoder\n",
    "encoder = OneHotEncoder(inputCol=\"genre_index\", outputCol=\"genre_vec\")\n",
    "\n",
    "# Combine indexing and encoding in a pipeline\n",
    "pipeline = Pipeline(stages=[indexer, encoder])\n",
    "genre_model = pipeline.fit(df_genres)\n",
    "df_genres_encoded = genre_model.transform(df_genres)\n",
    "\n",
    "\n",
    "# df_genres_encoded = indexer.transform(df_genres)\n",
    "# df_genres_encoded = encoder.fit(df_genres_encoded).transform(df_genres_encoded)\n",
    "\n",
    "# Join metadata with genre-encoded data\n",
    "df_final = df_metadata.join(df_genres_encoded, df_metadata.tmdbId == df_genres_encoded.movieId, \"inner\") \\\n",
    "    .select(\n",
    "        col(\"tmdbId\"),\n",
    "        col(\"name\"),\n",
    "        col(\"popularity\"),\n",
    "        col(\"genre_vec\")\n",
    "    )\n",
    "\n",
    "# Add userId and rating columns and convert to integer\n",
    "df_final = df_final.withColumn(\"userId\", (col(\"tmdbId\") * 0).cast(\"int\")) \\\n",
    "                   .withColumn(\"rating\", (col(\"tmdbId\") * 0 + 10).cast(\"int\"))\n",
    "\n",
    "# Show final DataFrame\n",
    "df_final.show(truncate=False)"
   ]
  },
  {
   "cell_type": "code",
   "execution_count": 2,
   "metadata": {},
   "outputs": [
    {
     "name": "stdout",
     "output_type": "stream",
     "text": [
      "True\n"
     ]
    }
   ],
   "source": [
    "import os\n",
    "print(os.path.exists(\"genre_indexer_model\"))"
   ]
  }
 ],
 "metadata": {
  "kernelspec": {
   "display_name": "dev_bootcamp",
   "language": "python",
   "name": "python3"
  },
  "language_info": {
   "codemirror_mode": {
    "name": "ipython",
    "version": 3
   },
   "file_extension": ".py",
   "mimetype": "text/x-python",
   "name": "python",
   "nbconvert_exporter": "python",
   "pygments_lexer": "ipython3",
   "version": "3.10.16"
  }
 },
 "nbformat": 4,
 "nbformat_minor": 2
}
